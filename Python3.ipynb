{
 "cells": [
  {
   "cell_type": "code",
   "execution_count": 1,
   "metadata": {},
   "outputs": [
    {
     "name": "stdout",
     "output_type": "stream",
     "text": [
      "Král řekl Honzovi: \"Ta saň má 7 hlav! Zabij ji a dostaneš 1/2 království.\"\n",
      "Počet písmen: 52\n",
      "Počet čísel: 3\n",
      "Počet jiných znaků: 19\n"
     ]
    }
   ],
   "source": [
    "print('Král řekl Honzovi: \"Ta saň má 7 hlav! Zabij ji a dostaneš 1/2 království.\"')\n",
    "sentence = list('Král řekl Honzovi: \"Ta saň má 7 hlav! Zabij ji a dostaneš 1/2 království.\"')\n",
    "alphabet = (\"AÁBCČDĎEÉĚFGHIÍJKLMNŇOÓPQRŘSŠTŤUÚŮVWXYÝZŽ\")\n",
    "alphabet = list(alphabet + alphabet.lower())\n",
    "signs = sum(c != \" \" for c in sentence)\n",
    "spaces = sum(c == \" \" for c in sentence)\n",
    "x = set(alphabet).intersection(sentence)\n",
    "x\n",
    "a=0\n",
    "for i in alphabet:\n",
    "    x =  sentence.count(i)\n",
    "    a = a+x\n",
    "a\n",
    "numbers = list(\"0123456789\")\n",
    "b=0\n",
    "for i in numbers:\n",
    "    y =  sentence.count(i)\n",
    "    b = b+y\n",
    "b\n",
    "print(\"Počet písmen: {}\".format(a))\n",
    "print(\"Počet čísel: {}\".format(b))\n",
    "print(\"Počet jiných znaků: {}\".format(signs - (a+b) + spaces))"
   ]
  },
  {
   "cell_type": "code",
   "execution_count": 9,
   "metadata": {},
   "outputs": [
    {
     "name": "stdout",
     "output_type": "stream",
     "text": [
      "Kolik let je vašemu kocourovi?6\n",
      "tak v kočičích letech mu je 45\n"
     ]
    }
   ],
   "source": [
    "years = int(input(\"Kolik let je vašemu kocourovi?\"))\n",
    "#if mikes = 83 result: mikes_lidsky_vek = 430\n",
    "if years == 1:\n",
    "    age = 18\n",
    "    print(age)\n",
    "elif years == 2:\n",
    "    age = 18 + 7\n",
    "    print(age)\n",
    "else:\n",
    "    age = (18 + 7 + ((years - 2)*5))\n",
    "    print(\"tak v kočičích letech mu je {}\".format (age))"
   ]
  },
  {
   "cell_type": "code",
   "execution_count": null,
   "metadata": {},
   "outputs": [],
   "source": []
  }
 ],
 "metadata": {
  "kernelspec": {
   "display_name": "Python 3",
   "language": "python",
   "name": "python3"
  },
  "language_info": {
   "codemirror_mode": {
    "name": "ipython",
    "version": 3
   },
   "file_extension": ".py",
   "mimetype": "text/x-python",
   "name": "python",
   "nbconvert_exporter": "python",
   "pygments_lexer": "ipython3",
   "version": "3.6.3"
  }
 },
 "nbformat": 4,
 "nbformat_minor": 2
}
