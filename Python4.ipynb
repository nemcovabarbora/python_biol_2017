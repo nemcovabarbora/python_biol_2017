{
 "cells": [
  {
   "cell_type": "code",
   "execution_count": 4,
   "metadata": {},
   "outputs": [
    {
     "name": "stdout",
     "output_type": "stream",
     "text": [
      "podíl A je 0.3 v ACTGAATGCT\n"
     ]
    }
   ],
   "source": [
    "def nucl_freq(dna, base):\n",
    "    i = 0\n",
    "    for x in dna:\n",
    "        if x == base:\n",
    "            i += 1\n",
    "    return i / len(dna)\n",
    "\n",
    "dna = 'ACTGAATGCT'\n",
    "base = 'A'\n",
    "n = nucl_freq(dna, base)\n",
    "\n",
    "print( 'podíl {base} je {n} v {dna}'.format(base=base, n=n, dna=dna))"
   ]
  },
  {
   "cell_type": "code",
   "execution_count": 5,
   "metadata": {},
   "outputs": [
    {
     "name": "stdout",
     "output_type": "stream",
     "text": [
      "{'A': 0.3, 'T': 0.3, 'G': 0.2, 'C': 0.2}\n"
     ]
    }
   ],
   "source": [
    "def nucl_freq_all(seq):\n",
    "    bases = \"ATGC\"\n",
    "    ls = []\n",
    "    for x in bases:\n",
    "        ls.append(nucl_freq(dna, x))\n",
    "    return dict(zip(bases, ls))\n",
    "    \n",
    "freqs = nucl_freq_all(dna)\n",
    "print(freqs)"
   ]
  },
  {
   "cell_type": "code",
   "execution_count": null,
   "metadata": {},
   "outputs": [],
   "source": []
  }
 ],
 "metadata": {
  "kernelspec": {
   "display_name": "Python 3",
   "language": "python",
   "name": "python3"
  },
  "language_info": {
   "codemirror_mode": {
    "name": "ipython",
    "version": 3
   },
   "file_extension": ".py",
   "mimetype": "text/x-python",
   "name": "python",
   "nbconvert_exporter": "python",
   "pygments_lexer": "ipython3",
   "version": "3.6.3"
  }
 },
 "nbformat": 4,
 "nbformat_minor": 2
}
