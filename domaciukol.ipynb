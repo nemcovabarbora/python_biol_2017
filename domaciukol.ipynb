{
 "cells": [
  {
   "cell_type": "code",
   "execution_count": null,
   "metadata": {},
   "outputs": [],
   "source": [
    "import matplotlib\n",
    "import pandas as pd\n",
    "from plotly.offline import init_notebook_mode, iplot\n",
    "import plotly.graph_objs as go\n",
    "\n",
    "init_notebook_mode()\n",
    "titanic = pd.read_excel('http://biostat.mc.vanderbilt.edu/wiki/pub/Main/DataSets/titanic3.xls')\n",
    "trace1 = go.Bar(\n",
    "    x = titanic.groupby([\n",
    "        'survived', 'embarked']).size().unstack(level = 1).index,\n",
    "    y = titanic.groupby([\n",
    "        'pclass', 'embarked']).size().unstack(level = 1)['C'], \n",
    "    name = 'Cherbourg')\n",
    "\n",
    "trace2 = go.Bar(\n",
    "    x = titanic.groupby([\n",
    "        'survived', 'embarked']).size().unstack(level = 1).index,\n",
    "    y = titanic.groupby(['pclass', 'embarked']).size().unstack(level = 1)['Q'], \n",
    "    name = 'Queenstown')\n",
    "\n",
    "trace3 = go.Bar(\n",
    "    x = titanic.groupby([\n",
    "        'survived', 'embarked']).size().unstack(level = 1).index,\n",
    "    y = titanic.groupby([\n",
    "        'survived', 'embarked']).size().unstack(level = 1)['S'], \n",
    "    name = 'Southampton')\n",
    "\n",
    "data = [trace1, trace2, trace3]\n",
    "\n",
    "layout = go.Layout(\n",
    "    title = 'Survivors by port of embarktion',\n",
    "    xaxis=dict(\n",
    "        title=\"Surviving\"),\n",
    ")\n",
    "fig = dict(data=data, layout=layout)\n",
    "iplot(fig)"
   ]
  }
 ],
 "metadata": {
  "kernelspec": {
   "display_name": "Python 3",
   "language": "python",
   "name": "python3"
  },
  "language_info": {
   "codemirror_mode": {
    "name": "ipython",
    "version": 3
   },
   "file_extension": ".py",
   "mimetype": "text/x-python",
   "name": "python",
   "nbconvert_exporter": "python",
   "pygments_lexer": "ipython3",
   "version": "3.6.3"
  }
 },
 "nbformat": 4,
 "nbformat_minor": 2
}
